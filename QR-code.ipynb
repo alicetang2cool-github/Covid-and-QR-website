{
 "cells": [
  {
   "cell_type": "markdown",
   "metadata": {
    "ExecuteTime": {
     "end_time": "2020-02-05T02:18:51.356184Z",
     "start_time": "2020-02-05T02:18:51.335096Z"
    }
   },
   "source": [
    "# QR code tutorial\n",
    "\n",
    "- **First, Install packages by running cell below:**"
   ]
  },
  {
   "cell_type": "code",
   "execution_count": 14,
   "metadata": {
    "ExecuteTime": {
     "end_time": "2020-02-05T02:18:55.144124Z",
     "start_time": "2020-02-05T02:18:55.003888Z"
    }
   },
   "outputs": [
    {
     "name": "stdout",
     "output_type": "stream",
     "text": [
      "Requirement already satisfied: pyqrcode in /opt/anaconda3/lib/python3.7/site-packages (1.2.1)\n",
      "Requirement already satisfied: pypng in /opt/anaconda3/lib/python3.7/site-packages (0.0.20)\n"
     ]
    }
   ],
   "source": [
    "!pip install pyqrcode\n",
    "!pip install pypng"
   ]
  },
  {
   "cell_type": "markdown",
   "metadata": {},
   "source": [
    "### Read password/string\n"
   ]
  },
  {
   "cell_type": "code",
   "execution_count": 15,
   "metadata": {
    "ExecuteTime": {
     "end_time": "2020-04-22T22:52:48.467307Z",
     "start_time": "2020-04-22T22:52:45.249656Z"
    }
   },
   "outputs": [
    {
     "name": "stdout",
     "output_type": "stream",
     "text": [
      "Input a string for QR code:········\n"
     ]
    }
   ],
   "source": [
    "import pyqrcode, getpass\n",
    "from pyqrcode import QRCode \n",
    "  \n",
    "s = getpass.getpass(\"Input a string for QR code:\")\n",
    "# OK now string stored in variable s"
   ]
  },
  {
   "cell_type": "code",
   "execution_count": 17,
   "metadata": {
    "ExecuteTime": {
     "end_time": "2020-04-22T22:52:50.259462Z",
     "start_time": "2020-04-22T22:52:50.189969Z"
    }
   },
   "outputs": [],
   "source": [
    "\n",
    "\n",
    "# Generate QR code \n",
    "QR = pyqrcode.create(s) "
   ]
  },
  {
   "cell_type": "markdown",
   "metadata": {
    "ExecuteTime": {
     "end_time": "2020-04-22T22:52:50.259462Z",
     "start_time": "2020-04-22T22:52:50.189969Z"
    }
   },
   "source": [
    "## Create QR image file\n",
    "\n",
    "- My file path may be different from yours.\n",
    "\n",
    "- In flask you could use\n",
    "\n",
    "```python\n",
    "myfile = os.path.join(app.static_folder, \"QR.png\")\n",
    "```\n",
    "Then this image can be viewed from this url:\n",
    "http://127.0.0.1:5000/static/QR.png\n"
   ]
  },
  {
   "cell_type": "code",
   "execution_count": 18,
   "metadata": {
    "ExecuteTime": {
     "end_time": "2020-04-23T01:59:47.107199Z",
     "start_time": "2020-04-23T01:59:47.063623Z"
    }
   },
   "outputs": [],
   "source": [
    "myfile = \"/Users/AliceTang/Desktop/QR.png\"\n",
    "QR.png(myfile, scale=5) # scale controls image size\n"
   ]
  },
  {
   "cell_type": "markdown",
   "metadata": {},
   "source": [
    "### now open this image file from  finder/file explorer by going to folder \"/Users/zhengqu\"\n",
    "or just type in terminal/Anaconda prompt:\n",
    "    open \"/Users/zhengqu/QR.png\"\n"
   ]
  },
  {
   "cell_type": "code",
   "execution_count": 19,
   "metadata": {
    "ExecuteTime": {
     "end_time": "2020-04-23T02:03:22.073838Z",
     "start_time": "2020-04-23T02:03:22.043971Z"
    }
   },
   "outputs": [
    {
     "data": {
      "image/png": "[encoded data removed]",
      "text/plain": [
       "<IPython.core.display.Image object>"
      ]
     },
     "execution_count": 19,
     "metadata": {},
     "output_type": "execute_result"
    }
   ],
   "source": [
    "# To show image from jupyter notebook (this is not desired way for your project)\n",
    "from IPython.display import Image\n",
    "import base64, io\n",
    "d = io.BytesIO()\n",
    "QR.png(d, scale=5)\n",
    "Image(d.getvalue())"
   ]
  },
  {
   "cell_type": "code",
   "execution_count": null,
   "metadata": {},
   "outputs": [],
   "source": []
  }
 ],
 "metadata": {
  "kernelspec": {
   "display_name": "Python 3",
   "language": "python",
   "name": "python3"
  },
  "language_info": {
   "codemirror_mode": {
    "name": "ipython",
    "version": 3
   },
   "file_extension": ".py",
   "mimetype": "text/x-python",
   "name": "python",
   "nbconvert_exporter": "python",
   "pygments_lexer": "ipython3",
   "version": "3.7.4"
  },
  "latex_envs": {
   "LaTeX_envs_menu_present": true,
   "autoclose": false,
   "autocomplete": true,
   "bibliofile": "biblio.bib",
   "cite_by": "apalike",
   "current_citInitial": 1,
   "eqLabelWithNumbers": true,
   "eqNumInitial": 1,
   "hotkeys": {
    "equation": "Ctrl-E",
    "itemize": "Ctrl-I"
   },
   "labels_anchors": false,
   "latex_user_defs": false,
   "report_style_numbering": false,
   "user_envs_cfg": false
  },
  "toc": {
   "base_numbering": 1,
   "nav_menu": {},
   "number_sections": true,
   "sideBar": true,
   "skip_h1_title": false,
   "title_cell": "Table of Contents",
   "title_sidebar": "Contents",
   "toc_cell": false,
   "toc_position": {},
   "toc_section_display": true,
   "toc_window_display": false
  }
 },
 "nbformat": 4,
 "nbformat_minor": 2
}
